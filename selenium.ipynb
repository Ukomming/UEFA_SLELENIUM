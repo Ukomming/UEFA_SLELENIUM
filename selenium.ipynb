{
 "cells": [
  {
   "cell_type": "code",
   "execution_count": 54,
   "id": "41fc5e5c-f21d-4453-87a0-50599cadd3ad",
   "metadata": {},
   "outputs": [
    {
     "name": "stdout",
     "output_type": "stream",
     "text": [
      "['2021/22', '2020/21', '2019/20', '2018/19', '2017/18', '2016/17', '2015/16', '2014/15', '2013/14', '2015/16', '2014/15', '2013/14', '2012/13', '2011/12', '2010/11', '2009/10', '2008/09', '2007/08', '2006/07', '2005/06', '2004/05', '2003/04', '2003/04', '2002/03', '2001/02', '2000/01', '1999/00', '1998/99', '1997/98', '1996/97', '1995/96', '1994/95', '1993/94', '1992/93', '1991/92', '1990/91', '1989/90', '1988/89', '1987/88', '1986/87', '1985/86', '1984/85', '1983/84', '1982/83', '1981/82', '1980/81', '1979/80', '1978/79', '1977/78', '1976/77', '1975/76', '1974/75', '1973/74', '1972/73', '1971/72', '1970/71', '1969/70', '1968/69', '1967/68', '1966/67', '1965/66', '1964/65', '1963/64', '1962/63', '1961/62', '1960/61', '1959/60', '1958/59', '1959/60', '1958/59', '1957/58', '1956/57', '1955/56', '1959/60', '1958/59', '1957/58', '1956/57', '1955/56']\n"
     ]
    }
   ],
   "source": [
    "\n",
    "from selenium.webdriver.chrome.service import Service\n",
    "from selenium import webdriver\n",
    "from selenium.webdriver.common.by import By\n",
    "\n",
    "service = Service(executable_path=\"/usr/local/bin/chromedriver\")\n",
    "driver = webdriver.Chrome(service=service)\n",
    "year = 1995\n",
    "# while year <= 2022:\n",
    "\n",
    "driver.get(\"https://www.uefa.com/uefachampionsleague/\")# GET THE URL \n",
    "driver.maximize_window()   # MAXIMIZE THT WINDOW\n",
    "# driver.fullscreen_window()\n",
    "driver.find_element(By.ID,\"onetrust-reject-all-handler\").click() # REJECT THE COOKIES\n",
    "driver.find_element(By.XPATH,'/html/body/div[2]/div/div/div[1]/nav[1]/div[4]/div/ul/li[9]/a').click() # CLICK ON THE HISTORY LINK\n",
    "\n",
    "'''\n",
    "CLICKING THE NAVIGATION BUTTION UNTIL IT REACHES THE END\n",
    "\n",
    "'''\n",
    "year_list = ['']\n",
    "\n",
    "\n",
    "# year = []\n",
    "for _ in range(14):\n",
    "    driver.find_element(By.CSS_SELECTOR,'.position-aside > pk-button:nth-child(2)').click() # CLICKING NEXT\n",
    "    element = driver.find_elements(By.CLASS_NAME,'season-picker-identifier')  # ACCESSING YEARS FROM THE PAGE\n",
    "    for e in element:  # EXTRACTING THE TEXT FROM THE RESULT\n",
    "    # print(e.text)\n",
    "        year_list.append(e.text) # APPENDIND THE RESULTS TO YEAR_LIST\n",
    "\n",
    "'''\n",
    "OUR YEAR LIST CONTANED EMPTY STRINGS SO THE DATA IS BEING CLEANED\n",
    "'''\n",
    "  \n",
    "year_list = list(filter(None, year_list)) # WE REMOVE IT FROM THE LIST USING THE FILTER\n",
    "    \n",
    "print(year_list)\n",
    "\n"
   ]
  },
  {
   "cell_type": "markdown",
   "id": "8a1f5843-3f62-48f7-a99b-ddf45fc373c0",
   "metadata": {},
   "source": [
    "### ACCESSING EACH PAGE AND SCRAPYING OUR INFO"
   ]
  },
  {
   "cell_type": "code",
   "execution_count": 60,
   "id": "4e8f3454-17ea-4322-ac18-e4bb69f8e70a",
   "metadata": {},
   "outputs": [
    {
     "name": "stdout",
     "output_type": "stream",
     "text": [
      "77\n",
      "['2020', '2019', '2018', '2017', '2016', '2015', '2014', '2013', '2015', '2014', '2013', '2012', '2011', '2010', '2009', '2008', '2007', '2006', '2005', '2004', '2003', '2003', '2002', '2001', '2000', '1999', '1998', '1997', '1996', '1995', '1994', '1993', '1992', '1991', '1990', '1989', '1988', '1987', '1986', '1985', '1984', '1983', '1982', '1981', '1980', '1979', '1978', '1977', '1976', '1975', '1974', '1973', '1972', '1971', '1970', '1969', '1968', '1967', '1966', '1965', '1964', '1963', '1962', '1961', '1960', '1959', '1958', '1959', '1958', '1957', '1956', '1955', '1959', '1958', '1957', '1956', '1955']\n"
     ]
    },
    {
     "data": {
      "text/plain": [
       "77"
      ]
     },
     "execution_count": 60,
     "metadata": {},
     "output_type": "execute_result"
    }
   ],
   "source": [
    "print(len(year_list)) # SINCE THIS IS THE LIST OF YEARS BEING PLAYed WE CALCULATE THE TOTAL NUMBER OF YEARS\n",
    "seasonal_year=[]\n",
    "#  WE ARE ROMOVING / AND TRAILING CHARACTERS FROM  EACH YEAR AND CONVERTING INTO INT SO WE CAN USE IT IN OUR DYNAMIC URL\n",
    "for e in year_list: #LOOP THROUGH THE LIST\n",
    "    size = len(e) # FIND THE SIZE OF EACH ITEM IN THE LIST\n",
    "    New_e = e[:size - 3] # STRIP THE LAST 3 CHARACTERS EACH ELEMENT \n",
    "    seasonal_year.append(New_e)  \n",
    "    \n",
    "print(seasonal_year)\n",
    "len(seasonal_year)\n",
    "  "
   ]
  },
  {
   "cell_type": "code",
   "execution_count": 74,
   "id": "74b456d7-b494-427e-9835-52aecb359522",
   "metadata": {},
   "outputs": [
    {
     "ename": "InvalidSelectorException",
     "evalue": "Message: invalid selector: Unable to locate an element with the xpath expression /div.gWOQzlfHy0wewkNvSjta:nth-child(16) > div:nth-child(1) because of the following error:\nSyntaxError: Failed to execute 'evaluate' on 'Document': The string '/div.gWOQzlfHy0wewkNvSjta:nth-child(16) > div:nth-child(1)' is not a valid XPath expression.\n  (Session info: chrome=106.0.5249.119)\nStacktrace:\n#0 0x55ce3e8862c3 <unknown>\n#1 0x55ce3e68f83a <unknown>\n#2 0x55ce3e6929d7 <unknown>\n#3 0x55ce3e692877 <unknown>\n#4 0x55ce3e692b3c <unknown>\n#5 0x55ce3e6c868f <unknown>\n#6 0x55ce3e6c8b61 <unknown>\n#7 0x55ce3e700d14 <unknown>\n#8 0x55ce3e6e6f6d <unknown>\n#9 0x55ce3e6fea50 <unknown>\n#10 0x55ce3e6e6d63 <unknown>\n#11 0x55ce3e6bb7e3 <unknown>\n#12 0x55ce3e6bca21 <unknown>\n#13 0x55ce3e8d418e <unknown>\n#14 0x55ce3e8d7622 <unknown>\n#15 0x55ce3e8baaae <unknown>\n#16 0x55ce3e8d82a3 <unknown>\n#17 0x55ce3e8aeecf <unknown>\n#18 0x55ce3e8f8588 <unknown>\n#19 0x55ce3e8f8706 <unknown>\n#20 0x55ce3e9128b2 <unknown>\n#21 0x7f9639f2d609 <unknown>\n",
     "output_type": "error",
     "traceback": [
      "\u001b[0;31m---------------------------------------------------------------------------\u001b[0m",
      "\u001b[0;31mInvalidSelectorException\u001b[0m                  Traceback (most recent call last)",
      "Input \u001b[0;32mIn [74]\u001b[0m, in \u001b[0;36m<cell line: 9>\u001b[0;34m()\u001b[0m\n\u001b[1;32m      1\u001b[0m \u001b[38;5;124;03m'''\u001b[39;00m\n\u001b[1;32m      2\u001b[0m \u001b[38;5;124;03mWE ARE GOING TO CREATE A DYNAMIC LINK FOR OUR driver USING THE seasonal_year list\u001b[39;00m\n\u001b[1;32m      3\u001b[0m \u001b[38;5;124;03m'''\u001b[39;00m \n\u001b[1;32m      4\u001b[0m \u001b[38;5;66;03m# url = \"https://www.uefa.com/uefachampionsleague/history/seasons/2021\"\u001b[39;00m\n\u001b[1;32m      5\u001b[0m \u001b[38;5;66;03m# driver.get(url)\u001b[39;00m\n\u001b[1;32m      6\u001b[0m \u001b[38;5;66;03m# Winner = driver.find_element(By.CSS_SELECTOR,'.season-winner').text  # GET THE WINNER OF THE YEAR\u001b[39;00m\n\u001b[1;32m      7\u001b[0m \u001b[38;5;66;03m# print(winner)\u001b[39;00m\n\u001b[1;32m      8\u001b[0m \u001b[38;5;66;03m# driver.find_element(By.CSS_SELECTOR,'a.pk-mr--s:nth-child(2)').click() # CLICK THE LINK TO THE MATCHES PAGE\u001b[39;00m\n\u001b[0;32m----> 9\u001b[0m flag \u001b[38;5;241m=\u001b[39m \u001b[43mdriver\u001b[49m\u001b[38;5;241;43m.\u001b[39;49m\u001b[43mfind_element\u001b[49m\u001b[43m(\u001b[49m\u001b[43mBy\u001b[49m\u001b[38;5;241;43m.\u001b[39;49m\u001b[43mXPATH\u001b[49m\u001b[43m,\u001b[49m\u001b[38;5;124;43m\"\u001b[39;49m\u001b[38;5;124;43m/div.gWOQzlfHy0wewkNvSjta:nth-child(16) > div:nth-child(1)\u001b[39;49m\u001b[38;5;124;43m\"\u001b[39;49m\u001b[43m)\u001b[49m\n\u001b[1;32m     10\u001b[0m driver\u001b[38;5;241m.\u001b[39mexecute_script(\u001b[38;5;124m\"\u001b[39m\u001b[38;5;124marguments[0].scrollIntoView();\u001b[39m\u001b[38;5;124m\"\u001b[39m,flag)\n",
      "File \u001b[0;32m~/anaconda3/lib/python3.9/site-packages/selenium/webdriver/remote/webdriver.py:856\u001b[0m, in \u001b[0;36mWebDriver.find_element\u001b[0;34m(self, by, value)\u001b[0m\n\u001b[1;32m    853\u001b[0m     by \u001b[38;5;241m=\u001b[39m By\u001b[38;5;241m.\u001b[39mCSS_SELECTOR\n\u001b[1;32m    854\u001b[0m     value \u001b[38;5;241m=\u001b[39m \u001b[38;5;124m'\u001b[39m\u001b[38;5;124m[name=\u001b[39m\u001b[38;5;124m\"\u001b[39m\u001b[38;5;132;01m%s\u001b[39;00m\u001b[38;5;124m\"\u001b[39m\u001b[38;5;124m]\u001b[39m\u001b[38;5;124m'\u001b[39m \u001b[38;5;241m%\u001b[39m value\n\u001b[0;32m--> 856\u001b[0m \u001b[38;5;28;01mreturn\u001b[39;00m \u001b[38;5;28;43mself\u001b[39;49m\u001b[38;5;241;43m.\u001b[39;49m\u001b[43mexecute\u001b[49m\u001b[43m(\u001b[49m\u001b[43mCommand\u001b[49m\u001b[38;5;241;43m.\u001b[39;49m\u001b[43mFIND_ELEMENT\u001b[49m\u001b[43m,\u001b[49m\u001b[43m \u001b[49m\u001b[43m{\u001b[49m\n\u001b[1;32m    857\u001b[0m \u001b[43m    \u001b[49m\u001b[38;5;124;43m'\u001b[39;49m\u001b[38;5;124;43musing\u001b[39;49m\u001b[38;5;124;43m'\u001b[39;49m\u001b[43m:\u001b[49m\u001b[43m \u001b[49m\u001b[43mby\u001b[49m\u001b[43m,\u001b[49m\n\u001b[1;32m    858\u001b[0m \u001b[43m    \u001b[49m\u001b[38;5;124;43m'\u001b[39;49m\u001b[38;5;124;43mvalue\u001b[39;49m\u001b[38;5;124;43m'\u001b[39;49m\u001b[43m:\u001b[49m\u001b[43m \u001b[49m\u001b[43mvalue\u001b[49m\u001b[43m}\u001b[49m\u001b[43m)\u001b[49m[\u001b[38;5;124m'\u001b[39m\u001b[38;5;124mvalue\u001b[39m\u001b[38;5;124m'\u001b[39m]\n",
      "File \u001b[0;32m~/anaconda3/lib/python3.9/site-packages/selenium/webdriver/remote/webdriver.py:429\u001b[0m, in \u001b[0;36mWebDriver.execute\u001b[0;34m(self, driver_command, params)\u001b[0m\n\u001b[1;32m    427\u001b[0m response \u001b[38;5;241m=\u001b[39m \u001b[38;5;28mself\u001b[39m\u001b[38;5;241m.\u001b[39mcommand_executor\u001b[38;5;241m.\u001b[39mexecute(driver_command, params)\n\u001b[1;32m    428\u001b[0m \u001b[38;5;28;01mif\u001b[39;00m response:\n\u001b[0;32m--> 429\u001b[0m     \u001b[38;5;28;43mself\u001b[39;49m\u001b[38;5;241;43m.\u001b[39;49m\u001b[43merror_handler\u001b[49m\u001b[38;5;241;43m.\u001b[39;49m\u001b[43mcheck_response\u001b[49m\u001b[43m(\u001b[49m\u001b[43mresponse\u001b[49m\u001b[43m)\u001b[49m\n\u001b[1;32m    430\u001b[0m     response[\u001b[38;5;124m'\u001b[39m\u001b[38;5;124mvalue\u001b[39m\u001b[38;5;124m'\u001b[39m] \u001b[38;5;241m=\u001b[39m \u001b[38;5;28mself\u001b[39m\u001b[38;5;241m.\u001b[39m_unwrap_value(\n\u001b[1;32m    431\u001b[0m         response\u001b[38;5;241m.\u001b[39mget(\u001b[38;5;124m'\u001b[39m\u001b[38;5;124mvalue\u001b[39m\u001b[38;5;124m'\u001b[39m, \u001b[38;5;28;01mNone\u001b[39;00m))\n\u001b[1;32m    432\u001b[0m     \u001b[38;5;28;01mreturn\u001b[39;00m response\n",
      "File \u001b[0;32m~/anaconda3/lib/python3.9/site-packages/selenium/webdriver/remote/errorhandler.py:243\u001b[0m, in \u001b[0;36mErrorHandler.check_response\u001b[0;34m(self, response)\u001b[0m\n\u001b[1;32m    241\u001b[0m         alert_text \u001b[38;5;241m=\u001b[39m value[\u001b[38;5;124m'\u001b[39m\u001b[38;5;124malert\u001b[39m\u001b[38;5;124m'\u001b[39m]\u001b[38;5;241m.\u001b[39mget(\u001b[38;5;124m'\u001b[39m\u001b[38;5;124mtext\u001b[39m\u001b[38;5;124m'\u001b[39m)\n\u001b[1;32m    242\u001b[0m     \u001b[38;5;28;01mraise\u001b[39;00m exception_class(message, screen, stacktrace, alert_text)  \u001b[38;5;66;03m# type: ignore[call-arg]  # mypy is not smart enough here\u001b[39;00m\n\u001b[0;32m--> 243\u001b[0m \u001b[38;5;28;01mraise\u001b[39;00m exception_class(message, screen, stacktrace)\n",
      "\u001b[0;31mInvalidSelectorException\u001b[0m: Message: invalid selector: Unable to locate an element with the xpath expression /div.gWOQzlfHy0wewkNvSjta:nth-child(16) > div:nth-child(1) because of the following error:\nSyntaxError: Failed to execute 'evaluate' on 'Document': The string '/div.gWOQzlfHy0wewkNvSjta:nth-child(16) > div:nth-child(1)' is not a valid XPath expression.\n  (Session info: chrome=106.0.5249.119)\nStacktrace:\n#0 0x55ce3e8862c3 <unknown>\n#1 0x55ce3e68f83a <unknown>\n#2 0x55ce3e6929d7 <unknown>\n#3 0x55ce3e692877 <unknown>\n#4 0x55ce3e692b3c <unknown>\n#5 0x55ce3e6c868f <unknown>\n#6 0x55ce3e6c8b61 <unknown>\n#7 0x55ce3e700d14 <unknown>\n#8 0x55ce3e6e6f6d <unknown>\n#9 0x55ce3e6fea50 <unknown>\n#10 0x55ce3e6e6d63 <unknown>\n#11 0x55ce3e6bb7e3 <unknown>\n#12 0x55ce3e6bca21 <unknown>\n#13 0x55ce3e8d418e <unknown>\n#14 0x55ce3e8d7622 <unknown>\n#15 0x55ce3e8baaae <unknown>\n#16 0x55ce3e8d82a3 <unknown>\n#17 0x55ce3e8aeecf <unknown>\n#18 0x55ce3e8f8588 <unknown>\n#19 0x55ce3e8f8706 <unknown>\n#20 0x55ce3e9128b2 <unknown>\n#21 0x7f9639f2d609 <unknown>\n"
     ]
    }
   ],
   "source": [
    "'''\n",
    "WE ARE GOING TO CREATE A DYNAMIC LINK FOR OUR driver USING THE seasonal_year list\n",
    "''' \n",
    "# url = \"https://www.uefa.com/uefachampionsleague/history/seasons/2021\"\n",
    "# driver.get(url)\n",
    "# Winner = driver.find_element(By.CSS_SELECTOR,'.season-winner').text  # GET THE WINNER OF THE YEAR\n",
    "# print(winner)\n",
    "# driver.find_element(By.CSS_SELECTOR,'a.pk-mr--s:nth-child(2)').click() # CLICK THE LINK TO THE MATCHES PAGE\n",
    "#CURRENTLY HERE\n",
    "# flag = driver.find_element(By.XPATH,\"/div.gWOQzlfHy0wewkNvSjta:nth-child(16) > div:nth-child(1)\")\n",
    "# driver.execute_script(\"arguments[0].scrollIntoView();\",flag)\n",
    "# Final\n",
    "# Semi-finals - 2nd leg\n",
    "# Semi-finals - 1st leg\n",
    "# Quarter-finals - 2nd leg\n",
    "# Quarter-finals - 1st leg\n",
    "# Round of 16 - 2nd leg\n",
    "# Round of 16 - 2nd leg\n",
    "# Round of 16 - 1st leg\n",
    "# Round of 16 - 1st leg\n",
    "# Group stage - Matchday 6\n",
    "# Group stage - Matchday 5\n",
    "# Group stage - Matchday 4\n",
    "# Group stage - Matchday 3\n",
    "# Group stage - Matchday 2\n",
    "# Group stage - Matchday 1\n",
    "\n",
    "\n",
    "\n",
    "\n",
    "# url = \"https://www.uefa.com/uefachampionsleague/history/seasons/\"\n",
    "# def PerPage(url,year):\n",
    "#         driver.get(url+year)\n",
    "#         driver.implicitly_wait(10)\n",
    "\n",
    "# for year in seasonal_year: \n",
    "#     PerPage(url,year)\n",
    "    "
   ]
  },
  {
   "cell_type": "code",
   "execution_count": null,
   "id": "de6e3c8d-bed9-4cc3-a45e-9afa0559bc28",
   "metadata": {},
   "outputs": [],
   "source": []
  }
 ],
 "metadata": {
  "kernelspec": {
   "display_name": "Python 3 (ipykernel)",
   "language": "python",
   "name": "python3"
  },
  "language_info": {
   "codemirror_mode": {
    "name": "ipython",
    "version": 3
   },
   "file_extension": ".py",
   "mimetype": "text/x-python",
   "name": "python",
   "nbconvert_exporter": "python",
   "pygments_lexer": "ipython3",
   "version": "3.9.12"
  }
 },
 "nbformat": 4,
 "nbformat_minor": 5
}
